{
  "cells": [
    {
      "cell_type": "markdown",
      "metadata": {
        "id": "FAGzis88l7x8"
      },
      "source": [
        "MODEL BUILDING"
      ]
    },
    {
      "cell_type": "markdown",
      "metadata": {
        "id": "c3y70G0zl7Yn"
      },
      "source": [
        "Adding The Flatten Layer"
      ]
    },
    {
      "cell_type": "code",
      "execution_count": null,
      "metadata": {
        "id": "sf1-2oziNaiP"
      },
      "outputs": [],
      "source": [
        "# importing numpy as np\n",
        "import numpy as np\n",
        "\n"
      ]
    },
    {
      "cell_type": "code",
      "execution_count": null,
      "metadata": {
        "id": "0PCT7Q1VNgp9"
      },
      "outputs": [],
      "source": [
        "# declare flatten np\n",
        "gfg = np.array([[6, 9, 12], [8, 5, 2], [18, 21, 24]])\n",
        "\n",
        "# using array.flatten() method\n",
        "flat_gfg = gfg.flatten(order='A')\n",
        "print(flat_gfg)\n"
      ]
    },
    {
      "cell_type": "code",
      "execution_count": null,
      "metadata": {
        "id": "iy2QXRwJeOqr"
      },
      "outputs": [],
      "source": [
        "from tensorflow.keras.preprocessing.image import ImageDataGenerator"
      ]
    },
    {
      "cell_type": "code",
      "execution_count": null,
      "metadata": {
        "id": "AdFUXM70fmPj"
      },
      "outputs": [],
      "source": [
        "# Training Datagen\n",
        "train_datagen = ImageDataGenerator(rescale=1/255,zoom_range=0.2,horizontal_flip=True,vertical_flip=False)\n",
        "# Testing Datagen\n",
        "test_datagen = ImageDataGenerator(rescale=1/255)\n"
      ]
    },
    {
      "cell_type": "code",
      "execution_count": null,
      "metadata": {
        "colab": {
          "base_uri": "https://localhost:8080/"
        },
        "id": "-SpHowmAgu7_",
        "outputId": "a456a77d-b9dc-47cb-b942-67453f1a81b7"
      },
      "outputs": [
        {
          "name": "stdout",
          "output_type": "stream",
          "text": [
            "Found 15760 images belonging to 9 classes.\n",
            "Found 2250 images belonging to 9 classes.\n"
          ]
        }
      ],
      "source": [
        "# Training Dataset\n",
        "x_train=train_datagen.flow_from_directory(r'/content/drive/MyDrive/Dataset/training_set',target_size=(64,64), class_mode='categorical',batch_size=900)\n",
        "# Testing Dataset\n",
        "x_test=test_datagen.flow_from_directory(r'/content/drive/MyDrive/Dataset/test_set',target_size=(64,64), class_mode='categorical',batch_size=900)\n"
      ]
    },
    {
      "cell_type": "code",
      "execution_count": null,
      "metadata": {
        "colab": {
          "base_uri": "https://localhost:8080/"
        },
        "id": "2qLcDqP4jgPT",
        "outputId": "4bf5a506-506c-44ac-9f13-040570b3643a"
      },
      "outputs": [
        {
          "name": "stdout",
          "output_type": "stream",
          "text": [
            "Len x-train :  18\n",
            "Len x-test :  3\n"
          ]
        }
      ],
      "source": [
        "print(\"Len x-train : \", len(x_train))\n",
        "print(\"Len x-test : \", len(x_test))"
      ]
    },
    {
      "cell_type": "code",
      "execution_count": null,
      "metadata": {
        "colab": {
          "base_uri": "https://localhost:8080/"
        },
        "id": "V9Z-Rvl1jh-Q",
        "outputId": "d67bde72-545f-4820-84f5-2885822f7c10"
      },
      "outputs": [
        {
          "data": {
            "text/plain": [
              "{'A': 0, 'B': 1, 'C': 2, 'D': 3, 'E': 4, 'F': 5, 'G': 6, 'H': 7, 'I': 8}"
            ]
          },
          "execution_count": 8,
          "metadata": {},
          "output_type": "execute_result"
        }
      ],
      "source": [
        "# The Class Indices in Training Dataset\n",
        "x_train.class_indices"
      ]
    },
    {
      "cell_type": "markdown",
      "metadata": {
        "id": "5yHOh0Bhl5F9"
      },
      "source": [
        "**Model Creation**"
      ]
    },
    {
      "cell_type": "code",
      "execution_count": null,
      "metadata": {
        "id": "dy8sHfMmN4cs"
      },
      "outputs": [],
      "source": [
        "model = Sequential()\n",
        "for i, feat in enumerate(args.conv_f):\n",
        "    if i==0:\n",
        "        model.add(Conv2D(feat, input_shape=x[0].shape, kernel_size=3, padding = 'same',use_bias=False))\n",
        "    else:\n",
        "        model.add(Conv2D(feat, kernel_size=3, padding = 'same',use_bias=False))\n",
        "        model.add(BatchNormalization())\n",
        "        model.add(LeakyReLU(alpha=args.conv_act))\n",
        "        model.add(Conv2D(feat, kernel_size=3, padding = 'same',use_bias=False))\n",
        "        model.add(BatchNormalization())\n",
        "        model.add(LeakyReLU(alpha=args.conv_act))\n",
        "        model.add(Dropout(args.conv_do[i]))\n"
      ]
    },
    {
      "cell_type": "code",
      "execution_count": null,
      "metadata": {
        "id": "Hyfc8K_sN7A8"
      },
      "outputs": [],
      "source": [
        "\n",
        "model.add(Flatten())\n",
        "\n",
        "#Input code here\n",
        "\n",
        "denseArgs = {'use_bias':False}\n",
        "for i,feat in enumerate(args.dense_f):\n",
        "    model.add(Dense(feat,**denseArgs))\n",
        "    model.add(BatchNormalization())\n",
        "    model.add(LeakyReLU(alpha=args.dense_act))\n",
        "    model.add(Dropout(args.dense_do[i]))\n",
        "model.add(Dense(1))"
      ]
    },
    {
      "cell_type": "code",
      "execution_count": null,
      "metadata": {
        "id": "ycQhnJ3om87I"
      },
      "outputs": [],
      "source": [
        "# Importing Libraries\n",
        "from tensorflow.keras.models import Sequential\n",
        "from tensorflow.keras.layers import Convolution2D,MaxPooling2D,Flatten,Dense"
      ]
    },
    {
      "cell_type": "code",
      "execution_count": null,
      "metadata": {
        "id": "IVNzGYblocSh"
      },
      "outputs": [],
      "source": [
        "# Creating Model\n",
        "model=Sequential()"
      ]
    },
    {
      "cell_type": "code",
      "execution_count": null,
      "metadata": {
        "id": "G7kEjSISpDs7"
      },
      "outputs": [],
      "source": [
        "# Adding Layers\n",
        "model.add(Convolution2D(32,(3,3),activation='relu',input_shape=(64,64,3)))"
      ]
    },
    {
      "cell_type": "code",
      "execution_count": null,
      "metadata": {
        "id": "p8lwdE26pLdN"
      },
      "outputs": [],
      "source": [
        "model.add(MaxPooling2D(pool_size=(2,2)))"
      ]
    },
    {
      "cell_type": "code",
      "execution_count": null,
      "metadata": {
        "id": "cIeLXS77pTEq"
      },
      "outputs": [],
      "source": [
        "model.add(Flatten())"
      ]
    },
    {
      "cell_type": "code",
      "execution_count": null,
      "metadata": {
        "id": "0XAR5Q0fphqp"
      },
      "outputs": [],
      "source": [
        "# Adding Dense Layers\n",
        "model.add(Dense(300,activation='relu'))\n",
        "model.add(Dense(150,activation='relu'))\n",
        "model.add(Dense(9,activation='softmax'))"
      ]
    }
  ],
  "metadata": {
    "colab": {
      "collapsed_sections": [],
      "provenance": []
    },
    "kernelspec": {
      "display_name": "Python 3",
      "name": "python3"
    },
    "language_info": {
      "name": "python"
    }
  },
  "nbformat": 4,
  "nbformat_minor": 0
}
